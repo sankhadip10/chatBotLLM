{
  "cells": [
    {
      "cell_type": "markdown",
      "metadata": {
        "id": "view-in-github",
        "colab_type": "text"
      },
      "source": [
        "<a href=\"https://colab.research.google.com/github/sankhadip10/chatBotLLM/blob/main/Neural_network.ipynb\" target=\"_parent\"><img src=\"https://colab.research.google.com/assets/colab-badge.svg\" alt=\"Open In Colab\"/></a>"
      ]
    },
    {
      "cell_type": "code",
      "execution_count": null,
      "metadata": {
        "id": "VxAkWxF0660S"
      },
      "outputs": [],
      "source": [
        "import torch"
      ]
    },
    {
      "cell_type": "code",
      "execution_count": null,
      "metadata": {
        "colab": {
          "base_uri": "https://localhost:8080/",
          "height": 36
        },
        "id": "pbF_hXBd7BTZ",
        "outputId": "391a8113-f2f4-48e5-cd6d-9e092df504eb"
      },
      "outputs": [
        {
          "output_type": "execute_result",
          "data": {
            "text/plain": [
              "'2.5.1+cu124'"
            ],
            "application/vnd.google.colaboratory.intrinsic+json": {
              "type": "string"
            }
          },
          "metadata": {},
          "execution_count": 2
        }
      ],
      "source": [
        "torch.__version__"
      ]
    },
    {
      "cell_type": "markdown",
      "metadata": {
        "id": "Nb41bbYm7Iv3"
      },
      "source": [
        "## Tensors"
      ]
    },
    {
      "cell_type": "markdown",
      "source": [],
      "metadata": {
        "id": "QwYxYj27p24o"
      }
    },
    {
      "cell_type": "markdown",
      "metadata": {
        "id": "48N5_r5e7M5g"
      },
      "source": [
        "## Creating Tensors"
      ]
    },
    {
      "cell_type": "code",
      "source": [],
      "metadata": {
        "id": "-GVC8_FXghqP"
      },
      "execution_count": null,
      "outputs": []
    },
    {
      "cell_type": "code",
      "execution_count": null,
      "metadata": {
        "colab": {
          "base_uri": "https://localhost:8080/"
        },
        "id": "YkXduOVo7LvB",
        "outputId": "a7e38a1c-2d07-4bf6-e0b2-b0522bd00f1e"
      },
      "outputs": [
        {
          "output_type": "execute_result",
          "data": {
            "text/plain": [
              "tensor(1)"
            ]
          },
          "metadata": {},
          "execution_count": 3
        }
      ],
      "source": [
        "# scalar - tensor with zero dimension\n",
        "tensor0 = torch.tensor(1)\n",
        "tensor0"
      ]
    },
    {
      "cell_type": "code",
      "execution_count": null,
      "metadata": {
        "colab": {
          "base_uri": "https://localhost:8080/"
        },
        "id": "r2oc3jow_LUA",
        "outputId": "ae503040-90dc-443f-fac5-72108cd6e1f1"
      },
      "outputs": [
        {
          "output_type": "execute_result",
          "data": {
            "text/plain": [
              "0"
            ]
          },
          "metadata": {},
          "execution_count": 4
        }
      ],
      "source": [
        "tensor0.ndim"
      ]
    },
    {
      "cell_type": "code",
      "execution_count": null,
      "metadata": {
        "id": "0ILy0PjO8cd2"
      },
      "outputs": [],
      "source": [
        "# vector - tensor with one dimension\n",
        "tensor1 = torch.tensor([6,8,0,1,2])"
      ]
    },
    {
      "cell_type": "code",
      "execution_count": null,
      "metadata": {
        "id": "ly0e5WnY9KTq"
      },
      "outputs": [],
      "source": [
        "# matrix - tensor with two dimensions\n",
        "tensor2 = torch.tensor([[0, 1, 7],[4, 2, 4]])"
      ]
    },
    {
      "cell_type": "code",
      "execution_count": null,
      "metadata": {
        "colab": {
          "base_uri": "https://localhost:8080/"
        },
        "id": "fXl02Ra793nJ",
        "outputId": "2d826d6d-4953-46f1-8574-7290bef83eb4"
      },
      "outputs": [
        {
          "output_type": "stream",
          "name": "stdout",
          "text": [
            "vector:\n",
            "tensor([6, 8, 0, 1, 2])\tNo. of dimensions: 1\tShape: torch.Size([5])\n",
            "\n",
            "matirx:\n",
            "tensor([[0, 1, 7],\n",
            "        [4, 2, 4]])\tNo. of dimensions: 2\tShape: torch.Size([2, 3])\n",
            "\n"
          ]
        }
      ],
      "source": [
        "# Dimension and shape of a tensor\n",
        "print(f'vector:\\n{tensor1}\\tNo. of dimensions: {tensor1.ndim}\\tShape: {tensor1.shape}\\n')\n",
        "print(f'matirx:\\n{tensor2}\\tNo. of dimensions: {tensor2.dim()}\\tShape: {tensor2.size()}\\n')"
      ]
    },
    {
      "cell_type": "code",
      "source": [
        "print(tensor2.shape)\n",
        "print(tensor2.size())"
      ],
      "metadata": {
        "colab": {
          "base_uri": "https://localhost:8080/"
        },
        "id": "hyXPb7laBZ7A",
        "outputId": "d3ac3368-7563-4fc9-8dc7-043e039f63d6"
      },
      "execution_count": null,
      "outputs": [
        {
          "output_type": "stream",
          "name": "stdout",
          "text": [
            "torch.Size([2, 3])\n",
            "torch.Size([2, 3])\n"
          ]
        }
      ]
    },
    {
      "cell_type": "code",
      "execution_count": null,
      "metadata": {
        "colab": {
          "base_uri": "https://localhost:8080/"
        },
        "id": "a7_CMUmBBAO9",
        "outputId": "4f6c577d-783c-4e43-a3ae-54b47fc4a8df"
      },
      "outputs": [
        {
          "output_type": "execute_result",
          "data": {
            "text/plain": [
              "tensor([[2.5223e-44, 3.5032e-44, 2.2696e-33, 0.0000e+00],\n",
              "        [1.5751e-42, 4.3949e-41, 2.2697e-33, 0.0000e+00],\n",
              "        [2.5223e-44, 0.0000e+00, 2.2696e-33, 0.0000e+00]])"
            ]
          },
          "metadata": {},
          "execution_count": 9
        }
      ],
      "source": [
        "# Alternate ways\n",
        "size = (3,4)\n",
        "\n",
        "tensor4 = torch.empty(size)\n",
        "tensor4"
      ]
    },
    {
      "cell_type": "code",
      "execution_count": null,
      "metadata": {
        "colab": {
          "base_uri": "https://localhost:8080/"
        },
        "id": "snZPF0d9OZ6z",
        "outputId": "0b233ced-9f4f-4de5-acce-75ff81064411"
      },
      "outputs": [
        {
          "output_type": "execute_result",
          "data": {
            "text/plain": [
              "tensor([[0.2322, 0.4592, 0.3209, 0.3525],\n",
              "        [0.3916, 0.3495, 0.1171, 0.8042],\n",
              "        [0.9915, 0.8160, 0.0998, 0.2591]])"
            ]
          },
          "metadata": {},
          "execution_count": 10
        }
      ],
      "source": [
        "#creating a random tensor which follows gaussian dist\n",
        "tensor5 = torch.rand(size)\n",
        "tensor5"
      ]
    },
    {
      "cell_type": "code",
      "execution_count": null,
      "metadata": {
        "colab": {
          "base_uri": "https://localhost:8080/"
        },
        "id": "jjOUp7UXObmF",
        "outputId": "4e19e404-0f59-4b63-caae-6c31d9c624af"
      },
      "outputs": [
        {
          "output_type": "execute_result",
          "data": {
            "text/plain": [
              "tensor([[0., 0., 0., 0.],\n",
              "        [0., 0., 0., 0.],\n",
              "        [0., 0., 0., 0.]])"
            ]
          },
          "metadata": {},
          "execution_count": 11
        }
      ],
      "source": [
        "tensor6 = torch.zeros(size)\n",
        "tensor6"
      ]
    },
    {
      "cell_type": "code",
      "execution_count": null,
      "metadata": {
        "colab": {
          "base_uri": "https://localhost:8080/"
        },
        "id": "5IO1tRGSOdPx",
        "outputId": "7f899582-1123-466c-f5e7-339ac2857349"
      },
      "outputs": [
        {
          "output_type": "execute_result",
          "data": {
            "text/plain": [
              "tensor([[1., 1., 1., 1.],\n",
              "        [1., 1., 1., 1.],\n",
              "        [1., 1., 1., 1.]])"
            ]
          },
          "metadata": {},
          "execution_count": 12
        }
      ],
      "source": [
        "tensor7 = torch.ones(size)\n",
        "tensor7"
      ]
    },
    {
      "cell_type": "code",
      "execution_count": null,
      "metadata": {
        "colab": {
          "base_uri": "https://localhost:8080/"
        },
        "id": "rtpZ4M45BeUZ",
        "outputId": "7a281689-44cb-45fd-f192-7cc99424ab92"
      },
      "outputs": [
        {
          "output_type": "stream",
          "name": "stdout",
          "text": [
            "tensor([[0.1336, 0.8162],\n",
            "        [0.8945, 0.0951],\n",
            "        [0.7488, 0.0493],\n",
            "        [0.8162, 0.9020],\n",
            "        [0.8499, 0.1320],\n",
            "        [0.2427, 0.7187]])\n"
          ]
        },
        {
          "output_type": "execute_result",
          "data": {
            "text/plain": [
              "torch.float32"
            ]
          },
          "metadata": {},
          "execution_count": 13
        }
      ],
      "source": [
        "# Check the datatype of a tensor\n",
        "tensor4 = torch.rand(6,2)\n",
        "print(tensor4)\n",
        "tensor4.dtype"
      ]
    },
    {
      "cell_type": "code",
      "execution_count": null,
      "metadata": {
        "colab": {
          "base_uri": "https://localhost:8080/"
        },
        "id": "kdsZnnZtDqj5",
        "outputId": "795c6960-107b-4f9b-83bc-7ac278f8478f"
      },
      "outputs": [
        {
          "output_type": "stream",
          "name": "stdout",
          "text": [
            "tensor([[0.0957, 0.1914]], dtype=torch.float16)\n"
          ]
        }
      ],
      "source": [
        "# Create a tensor with a specific datatype within the particular range\n",
        "tensor5 = torch.rand(1, 2, dtype=torch.float16)\n",
        "print(tensor5)"
      ]
    },
    {
      "cell_type": "code",
      "execution_count": null,
      "metadata": {
        "colab": {
          "base_uri": "https://localhost:8080/"
        },
        "id": "N1e_h_BMFrWx",
        "outputId": "068fdbe7-fb61-415a-cd89-003605e40356"
      },
      "outputs": [
        {
          "output_type": "execute_result",
          "data": {
            "text/plain": [
              "tensor([[0.1336, 0.8162],\n",
              "        [0.8945, 0.0951],\n",
              "        [0.7488, 0.0493],\n",
              "        [0.8162, 0.9020],\n",
              "        [0.8499, 0.1320],\n",
              "        [0.2427, 0.7187]], dtype=torch.float64)"
            ]
          },
          "metadata": {},
          "execution_count": 15
        }
      ],
      "source": [
        "# Changing the datatype of a tensor\n",
        "tensor4.type(torch.double)"
      ]
    },
    {
      "cell_type": "code",
      "execution_count": null,
      "metadata": {
        "colab": {
          "base_uri": "https://localhost:8080/"
        },
        "id": "Yg0VpoWHPKLz",
        "outputId": "67f63eeb-a821-45a0-ed74-9274de9058c0"
      },
      "outputs": [
        {
          "output_type": "stream",
          "name": "stdout",
          "text": [
            "[[9 3]\n",
            " [0 4]]\n",
            "tensor([[9, 3],\n",
            "        [0, 4]])\n",
            "tensor([[9, 3],\n",
            "        [0, 4]])\n"
          ]
        }
      ],
      "source": [
        "## Creating tensors from a numpy array\n",
        "import numpy as np\n",
        "\n",
        "example_array = np.array([[9,3],[0,4]])\n",
        "tensor8 = torch.from_numpy(example_array)\n",
        "\n",
        "tensor9 = torch.tensor(example_array)\n",
        "print(example_array)\n",
        "print(tensor8)\n",
        "print(tensor9)"
      ]
    },
    {
      "cell_type": "code",
      "execution_count": null,
      "metadata": {
        "colab": {
          "base_uri": "https://localhost:8080/"
        },
        "id": "EmMVVt3dPkYW",
        "outputId": "7955d2fe-89c0-4259-d9f2-822846fe8f3f"
      },
      "outputs": [
        {
          "output_type": "stream",
          "name": "stdout",
          "text": [
            "[[27  9]\n",
            " [ 0 12]]\n",
            "tensor([[27,  9],\n",
            "        [ 0, 12]])\n",
            "tensor([[9, 3],\n",
            "        [0, 4]])\n"
          ]
        }
      ],
      "source": [
        "example_array *= 3\n",
        "print(example_array)\n",
        "print(tensor8)\n",
        "print(tensor9)"
      ]
    },
    {
      "cell_type": "code",
      "execution_count": null,
      "metadata": {
        "colab": {
          "base_uri": "https://localhost:8080/"
        },
        "id": "288BxfcMP2U_",
        "outputId": "20aefcf0-c25e-482b-9a4c-03c3bb1151f6"
      },
      "outputs": [
        {
          "output_type": "execute_result",
          "data": {
            "text/plain": [
              "tensor([[1, 1],\n",
              "        [1, 1]])"
            ]
          },
          "metadata": {},
          "execution_count": 18
        }
      ],
      "source": [
        "## Creating a tensor from another tensor\n",
        "tensor10 = torch.ones_like(tensor8)\n",
        "tensor10"
      ]
    },
    {
      "cell_type": "code",
      "execution_count": null,
      "metadata": {
        "colab": {
          "base_uri": "https://localhost:8080/"
        },
        "id": "iH6Sa2jlUZ8Y",
        "outputId": "0d9196bf-5f49-4f9e-ae39-ce5e81501e86"
      },
      "outputs": [
        {
          "output_type": "execute_result",
          "data": {
            "text/plain": [
              "device(type='cuda')"
            ]
          },
          "metadata": {},
          "execution_count": 19
        }
      ],
      "source": [
        "# Device configuration\n",
        "device = torch.device('cuda' if torch.cuda.is_available() else 'cpu')\n",
        "\n",
        "tensor11 = torch.ones(3,7).to(device) # \"cpu\",\"cuda\"\n",
        "\n",
        "tensor11 = torch.zeros(3,7, device=device)\n",
        "device"
      ]
    },
    {
      "cell_type": "markdown",
      "metadata": {
        "id": "r352kbJHcskd"
      },
      "source": [
        "## Accessing elements in a tensor"
      ]
    },
    {
      "cell_type": "code",
      "execution_count": null,
      "metadata": {
        "colab": {
          "base_uri": "https://localhost:8080/"
        },
        "id": "xEAspSKTdp37",
        "outputId": "0b91d420-4f07-45ed-dd76-cfa1a139ee88"
      },
      "outputs": [
        {
          "output_type": "execute_result",
          "data": {
            "text/plain": [
              "tensor([[0, 1, 7],\n",
              "        [4, 2, 4]])"
            ]
          },
          "metadata": {},
          "execution_count": 20
        }
      ],
      "source": [
        "tensor2"
      ]
    },
    {
      "cell_type": "code",
      "execution_count": null,
      "metadata": {
        "colab": {
          "base_uri": "https://localhost:8080/"
        },
        "id": "nzuzLupwcTTU",
        "outputId": "58ceb23e-719e-4420-dc53-f863b07fc7cd"
      },
      "outputs": [
        {
          "output_type": "execute_result",
          "data": {
            "text/plain": [
              "2"
            ]
          },
          "metadata": {},
          "execution_count": 21
        }
      ],
      "source": [
        "tensor2.dim()"
      ]
    },
    {
      "cell_type": "code",
      "execution_count": null,
      "metadata": {
        "colab": {
          "base_uri": "https://localhost:8080/"
        },
        "id": "5DItsJnJcYxP",
        "outputId": "3100507d-8d2e-4751-a69b-366c4b0805b4"
      },
      "outputs": [
        {
          "output_type": "execute_result",
          "data": {
            "text/plain": [
              "torch.Size([2, 3])"
            ]
          },
          "metadata": {},
          "execution_count": 22
        }
      ],
      "source": [
        "tensor2.size()"
      ]
    },
    {
      "cell_type": "code",
      "execution_count": null,
      "metadata": {
        "colab": {
          "base_uri": "https://localhost:8080/"
        },
        "id": "AQOlC86qdxPw",
        "outputId": "92b106e9-14db-4891-ef46-df356cf87841"
      },
      "outputs": [
        {
          "output_type": "execute_result",
          "data": {
            "text/plain": [
              "tensor([0, 1, 7])"
            ]
          },
          "metadata": {},
          "execution_count": 23
        }
      ],
      "source": [
        "tensor2[0]"
      ]
    },
    {
      "cell_type": "code",
      "execution_count": null,
      "metadata": {
        "colab": {
          "base_uri": "https://localhost:8080/"
        },
        "id": "42nNMNoRd_fw",
        "outputId": "af88cf31-9625-4da3-ac2d-bd4dad853a6a"
      },
      "outputs": [
        {
          "output_type": "execute_result",
          "data": {
            "text/plain": [
              "tensor(4)"
            ]
          },
          "metadata": {},
          "execution_count": 24
        }
      ],
      "source": [
        "tensor2[1,0]"
      ]
    },
    {
      "cell_type": "code",
      "execution_count": null,
      "metadata": {
        "colab": {
          "base_uri": "https://localhost:8080/"
        },
        "id": "mdXfEoFsQ8op",
        "outputId": "3aca3f34-5249-40dd-82e7-02eb00977c83"
      },
      "outputs": [
        {
          "output_type": "execute_result",
          "data": {
            "text/plain": [
              "tensor([7, 4])"
            ]
          },
          "metadata": {},
          "execution_count": 25
        }
      ],
      "source": [
        "# Slicing\n",
        "tensor2[:, 2] # this will give us all the rows and only column 2"
      ]
    },
    {
      "cell_type": "code",
      "execution_count": null,
      "metadata": {
        "colab": {
          "base_uri": "https://localhost:8080/"
        },
        "id": "tR15WnphRV2r",
        "outputId": "7fc57f49-2dfc-43b5-ff4e-6213171b26cd"
      },
      "outputs": [
        {
          "output_type": "execute_result",
          "data": {
            "text/plain": [
              "tensor([0, 1, 7])"
            ]
          },
          "metadata": {},
          "execution_count": 26
        }
      ],
      "source": [
        "tensor2[0, :] # this will give us only row 0 along with all columns"
      ]
    },
    {
      "cell_type": "code",
      "source": [
        "tensor2[:,2]"
      ],
      "metadata": {
        "colab": {
          "base_uri": "https://localhost:8080/"
        },
        "id": "Ali8JoSLp0vV",
        "outputId": "1601464b-17c7-4336-955c-4b6272aaea9d"
      },
      "execution_count": null,
      "outputs": [
        {
          "output_type": "execute_result",
          "data": {
            "text/plain": [
              "tensor([7, 4])"
            ]
          },
          "metadata": {},
          "execution_count": 30
        }
      ]
    },
    {
      "cell_type": "markdown",
      "metadata": {
        "id": "izXBZNMqdq3L"
      },
      "source": [
        "## Basic Tensor Operations"
      ]
    },
    {
      "cell_type": "code",
      "execution_count": null,
      "metadata": {
        "colab": {
          "base_uri": "https://localhost:8080/"
        },
        "id": "r4dPeipgLeCZ",
        "outputId": "82adc8e3-f83f-4776-859f-fca0d9c470c9"
      },
      "outputs": [
        {
          "output_type": "stream",
          "name": "stdout",
          "text": [
            "tensor([[1., 1., 1.],\n",
            "        [1., 1., 1.]])\n",
            "tensor([[0.4393, 0.6419, 0.6919],\n",
            "        [0.7301, 0.7824, 0.6654]])\n"
          ]
        }
      ],
      "source": [
        "tensor12 = torch.ones(2, 3)\n",
        "tensor13 = torch.rand(2, 3)\n",
        "\n",
        "print(tensor12)\n",
        "print(tensor13)"
      ]
    },
    {
      "cell_type": "code",
      "execution_count": null,
      "metadata": {
        "colab": {
          "base_uri": "https://localhost:8080/"
        },
        "id": "FTxgiFECWHhm",
        "outputId": "dfd1841f-6912-4001-8b1d-9ff12dbb6453"
      },
      "outputs": [
        {
          "output_type": "stream",
          "name": "stdout",
          "text": [
            "tensor([[1.4393, 1.6419, 1.6919],\n",
            "        [1.7301, 1.7824, 1.6654]])\n",
            "tensor([[0.5607, 0.3581, 0.3081],\n",
            "        [0.2699, 0.2176, 0.3346]])\n",
            "tensor([[0.4393, 0.6419, 0.6919],\n",
            "        [0.7301, 0.7824, 0.6654]])\n",
            "tensor([[1., 1., 1.],\n",
            "        [1., 1., 1.]])\n"
          ]
        }
      ],
      "source": [
        "# elementwise addition\n",
        "tensor14 = tensor12 + tensor13\n",
        "# torch.add(tensor12,tensor13)\n",
        "print(tensor14)\n",
        "\n",
        "# elementwise subtraction\n",
        "tensor15 = tensor12 - tensor13\n",
        "# torch.sub(tensor12, tensor13)\n",
        "print(tensor15)\n",
        "\n",
        "# elementwise multiplication\n",
        "tensor16 = tensor12 * tensor13\n",
        "# torch.mul(tensor12,tensor13)\n",
        "print(tensor16)\n",
        "\n",
        "# elementwise division\n",
        "tensor17 = tensor12 / tensor12\n",
        "# torch.div(tensor12,tensor12)\n",
        "print(tensor17)"
      ]
    },
    {
      "cell_type": "markdown",
      "metadata": {
        "id": "5442TYFVdxK0"
      },
      "source": [
        "## Manipulating a tensor"
      ]
    },
    {
      "cell_type": "markdown",
      "source": [
        "x = torch.randint('''range is specified''' 0,3,('''dimension is given here'''4,5))\n",
        "\n",
        "\n",
        "x"
      ],
      "metadata": {
        "id": "yCh33vwjD98t"
      }
    },
    {
      "cell_type": "code",
      "execution_count": null,
      "metadata": {
        "colab": {
          "base_uri": "https://localhost:8080/"
        },
        "id": "NKA3bb_ZWvyZ",
        "outputId": "ba603f2e-8ac0-4043-f0b3-fde8f4663cf0"
      },
      "outputs": [
        {
          "output_type": "execute_result",
          "data": {
            "text/plain": [
              "tensor([[0, 2, 2, 0, 0],\n",
              "        [1, 2, 2, 0, 0],\n",
              "        [1, 2, 0, 0, 2],\n",
              "        [2, 0, 1, 0, 2]])"
            ]
          },
          "metadata": {},
          "execution_count": 33
        }
      ],
      "source": [
        "x = torch.randint(0,3,(4,5))\n",
        "x"
      ]
    },
    {
      "cell_type": "code",
      "execution_count": null,
      "metadata": {
        "id": "uq-_CbV58yeB"
      },
      "outputs": [],
      "source": [
        "#here we change the shape of the tensor\n",
        "y = x.view(20)\n",
        "z = x.view(-1, 10)"
      ]
    },
    {
      "cell_type": "code",
      "source": [
        "x"
      ],
      "metadata": {
        "colab": {
          "base_uri": "https://localhost:8080/"
        },
        "id": "axoQ7e3xEl4-",
        "outputId": "c6aa7944-784b-4493-c750-11332ea088e7"
      },
      "execution_count": null,
      "outputs": [
        {
          "output_type": "execute_result",
          "data": {
            "text/plain": [
              "tensor([[0, 2, 2, 0, 0],\n",
              "        [1, 2, 2, 0, 0],\n",
              "        [1, 2, 0, 0, 2],\n",
              "        [2, 0, 1, 0, 2]])"
            ]
          },
          "metadata": {},
          "execution_count": 35
        }
      ]
    },
    {
      "cell_type": "code",
      "source": [
        "y"
      ],
      "metadata": {
        "colab": {
          "base_uri": "https://localhost:8080/"
        },
        "id": "LTSqpgG5Eg2p",
        "outputId": "739ec348-8984-4465-c9f7-4d475738e7b1"
      },
      "execution_count": null,
      "outputs": [
        {
          "output_type": "execute_result",
          "data": {
            "text/plain": [
              "tensor([0, 2, 2, 0, 0, 1, 2, 2, 0, 0, 1, 2, 0, 0, 2, 2, 0, 1, 0, 2])"
            ]
          },
          "metadata": {},
          "execution_count": 36
        }
      ]
    },
    {
      "cell_type": "code",
      "source": [
        "z"
      ],
      "metadata": {
        "colab": {
          "base_uri": "https://localhost:8080/"
        },
        "id": "L75YSK4KEhyq",
        "outputId": "e3451efb-6864-44aa-e948-6d01e66d5eb0"
      },
      "execution_count": null,
      "outputs": [
        {
          "output_type": "execute_result",
          "data": {
            "text/plain": [
              "tensor([[0, 2, 2, 0, 0, 1, 2, 2, 0, 0],\n",
              "        [1, 2, 0, 0, 2, 2, 0, 1, 0, 2]])"
            ]
          },
          "metadata": {},
          "execution_count": 37
        }
      ]
    },
    {
      "cell_type": "code",
      "execution_count": null,
      "metadata": {
        "colab": {
          "base_uri": "https://localhost:8080/"
        },
        "id": "lR7DoNwK8vXh",
        "outputId": "7d03a97a-c513-4b10-8c7c-08945de68bcf"
      },
      "outputs": [
        {
          "output_type": "stream",
          "name": "stdout",
          "text": [
            "torch.Size([4, 5]) torch.Size([20]) torch.Size([2, 10])\n"
          ]
        }
      ],
      "source": [
        "print(x.size(), y.size(), z.size())"
      ]
    },
    {
      "cell_type": "code",
      "source": [
        "a = torch.arange(9)"
      ],
      "metadata": {
        "id": "WKCUGFByrTBS"
      },
      "execution_count": null,
      "outputs": []
    },
    {
      "cell_type": "code",
      "source": [
        "a"
      ],
      "metadata": {
        "colab": {
          "base_uri": "https://localhost:8080/"
        },
        "id": "XvA8o_m2rW60",
        "outputId": "4a35a1d6-e687-4cb4-bf86-fa6c6f1f6828"
      },
      "execution_count": null,
      "outputs": [
        {
          "output_type": "execute_result",
          "data": {
            "text/plain": [
              "tensor([0, 1, 2, 3, 4, 5, 6, 7, 8])"
            ]
          },
          "metadata": {},
          "execution_count": 41
        }
      ]
    },
    {
      "cell_type": "code",
      "execution_count": null,
      "metadata": {
        "colab": {
          "base_uri": "https://localhost:8080/"
        },
        "id": "cDN7HIskOs9c",
        "outputId": "ac26f725-dba7-4dc9-fd98-205e56a7e10a"
      },
      "outputs": [
        {
          "output_type": "execute_result",
          "data": {
            "text/plain": [
              "tensor([[0, 1, 2],\n",
              "        [3, 4, 5],\n",
              "        [6, 7, 8]])"
            ]
          },
          "metadata": {},
          "execution_count": 42
        }
      ],
      "source": [
        "a = torch.arange(9)\n",
        "a = a.reshape(3,3)\n",
        "a"
      ]
    },
    {
      "cell_type": "code",
      "execution_count": null,
      "metadata": {
        "colab": {
          "base_uri": "https://localhost:8080/",
          "height": 158
        },
        "id": "CDKvcs7mOSaw",
        "outputId": "7aa0cf96-6a74-45e7-daad-330c98ec2769"
      },
      "outputs": [
        {
          "output_type": "error",
          "ename": "NameError",
          "evalue": "name 'torch' is not defined",
          "traceback": [
            "\u001b[0;31m---------------------------------------------------------------------------\u001b[0m",
            "\u001b[0;31mNameError\u001b[0m                                 Traceback (most recent call last)",
            "\u001b[0;32m<ipython-input-2-2bea42329a8e>\u001b[0m in \u001b[0;36m<cell line: 0>\u001b[0;34m()\u001b[0m\n\u001b[0;32m----> 1\u001b[0;31m \u001b[0mb\u001b[0m \u001b[0;34m=\u001b[0m \u001b[0mtorch\u001b[0m\u001b[0;34m.\u001b[0m\u001b[0mrandint\u001b[0m\u001b[0;34m(\u001b[0m\u001b[0;36m0\u001b[0m\u001b[0;34m,\u001b[0m\u001b[0;36m9\u001b[0m\u001b[0;34m,\u001b[0m\u001b[0;34m(\u001b[0m\u001b[0;36m3\u001b[0m\u001b[0;34m,\u001b[0m\u001b[0;36m3\u001b[0m\u001b[0;34m)\u001b[0m\u001b[0;34m)\u001b[0m \u001b[0;31m## torch.randint(low=0, high, size)\u001b[0m\u001b[0;34m\u001b[0m\u001b[0;34m\u001b[0m\u001b[0m\n\u001b[0m\u001b[1;32m      2\u001b[0m \u001b[0mb\u001b[0m\u001b[0;34m\u001b[0m\u001b[0;34m\u001b[0m\u001b[0m\n",
            "\u001b[0;31mNameError\u001b[0m: name 'torch' is not defined"
          ]
        }
      ],
      "source": [
        "b = torch.randint(0,9,(3,3)) ## torch.randint(low=0, high, size)\n",
        "b"
      ]
    },
    {
      "cell_type": "code",
      "execution_count": null,
      "metadata": {
        "colab": {
          "base_uri": "https://localhost:8080/"
        },
        "id": "0TrzajuPPXz0",
        "outputId": "44f56a4f-cdcc-4620-a4f1-ee4b9c8a3a08"
      },
      "outputs": [
        {
          "output_type": "execute_result",
          "data": {
            "text/plain": [
              "tensor([[0, 1, 2, 2, 8, 8],\n",
              "        [3, 4, 5, 6, 6, 0],\n",
              "        [6, 7, 8, 0, 3, 5]])"
            ]
          },
          "metadata": {},
          "execution_count": 37
        }
      ],
      "source": [
        "c = torch.cat((a,b),dim=1)\n",
        "c"
      ]
    },
    {
      "cell_type": "code",
      "execution_count": null,
      "metadata": {
        "colab": {
          "base_uri": "https://localhost:8080/"
        },
        "id": "GreZ98T_VI3o",
        "outputId": "20159ccb-3a82-48e0-ab3e-f1c642ec075d"
      },
      "outputs": [
        {
          "output_type": "execute_result",
          "data": {
            "text/plain": [
              "tensor([[0, 1, 2],\n",
              "        [3, 4, 5],\n",
              "        [6, 7, 8],\n",
              "        [2, 8, 8],\n",
              "        [6, 6, 0],\n",
              "        [0, 3, 5]])"
            ]
          },
          "metadata": {},
          "execution_count": 38
        }
      ],
      "source": [
        "d = torch.cat((a,b),dim=0)\n",
        "d"
      ]
    },
    {
      "cell_type": "code",
      "execution_count": null,
      "metadata": {
        "colab": {
          "base_uri": "https://localhost:8080/"
        },
        "id": "vCTJOZJ5PvX0",
        "outputId": "6a6c7620-6fd6-4d0c-e434-2d43965303bf"
      },
      "outputs": [
        {
          "output_type": "execute_result",
          "data": {
            "text/plain": [
              "tensor([[0, 1, 2],\n",
              "        [3, 4, 5],\n",
              "        [6, 7, 8]])"
            ]
          },
          "metadata": {},
          "execution_count": 39
        }
      ],
      "source": [
        "a"
      ]
    },
    {
      "cell_type": "code",
      "execution_count": null,
      "metadata": {
        "colab": {
          "base_uri": "https://localhost:8080/"
        },
        "id": "9RX3QfStYKHR",
        "outputId": "8270e449-3c52-4b9d-8131-45cc85f6807e"
      },
      "outputs": [
        {
          "output_type": "execute_result",
          "data": {
            "text/plain": [
              "tensor([[[1, 8, 0, 8, 3],\n",
              "         [8, 2, 5, 7, 7],\n",
              "         [7, 3, 2, 7, 6]],\n",
              "\n",
              "        [[6, 3, 1, 5, 0],\n",
              "         [2, 7, 4, 8, 6],\n",
              "         [1, 2, 4, 7, 2]]])"
            ]
          },
          "metadata": {},
          "execution_count": 40
        }
      ],
      "source": [
        "p = torch.randint(0,9,(2,3,5))\n",
        "p\n"
      ]
    },
    {
      "cell_type": "code",
      "execution_count": null,
      "metadata": {
        "colab": {
          "base_uri": "https://localhost:8080/"
        },
        "id": "AvQgpqxMT3Xw",
        "outputId": "72903f78-c833-4bc6-cf1f-c981665b427e"
      },
      "outputs": [
        {
          "output_type": "execute_result",
          "data": {
            "text/plain": [
              "tensor(132)"
            ]
          },
          "metadata": {},
          "execution_count": 41
        }
      ],
      "source": [
        "p.sum()"
      ]
    },
    {
      "cell_type": "code",
      "execution_count": null,
      "metadata": {
        "colab": {
          "base_uri": "https://localhost:8080/"
        },
        "id": "YQaqsIROT8RB",
        "outputId": "cec34852-6b54-43b2-b1d2-c6bc984bd74d"
      },
      "outputs": [
        {
          "output_type": "execute_result",
          "data": {
            "text/plain": [
              "tensor([[ 7, 11,  1, 13,  3],\n",
              "        [10,  9,  9, 15, 13],\n",
              "        [ 8,  5,  6, 14,  8]])"
            ]
          },
          "metadata": {},
          "execution_count": 42
        }
      ],
      "source": [
        "p.sum(dim = 0)"
      ]
    },
    {
      "cell_type": "code",
      "execution_count": null,
      "metadata": {
        "colab": {
          "base_uri": "https://localhost:8080/"
        },
        "id": "WZtsuKxjYpf7",
        "outputId": "ec5f4271-336b-422e-b237-0d1fa8a22b58"
      },
      "outputs": [
        {
          "output_type": "execute_result",
          "data": {
            "text/plain": [
              "torch.Size([3, 5])"
            ]
          },
          "metadata": {},
          "execution_count": 43
        }
      ],
      "source": [
        "p.sum(dim = 0).shape"
      ]
    },
    {
      "cell_type": "code",
      "execution_count": null,
      "metadata": {
        "colab": {
          "base_uri": "https://localhost:8080/"
        },
        "id": "zlpHyAW0ZpWk",
        "outputId": "3e7c1782-0508-49c0-bc93-30282f9816b3"
      },
      "outputs": [
        {
          "output_type": "execute_result",
          "data": {
            "text/plain": [
              "tensor([[[1, 8, 0, 8, 3],\n",
              "         [8, 2, 5, 7, 7],\n",
              "         [7, 3, 2, 7, 6]],\n",
              "\n",
              "        [[6, 3, 1, 5, 0],\n",
              "         [2, 7, 4, 8, 6],\n",
              "         [1, 2, 4, 7, 2]]])"
            ]
          },
          "metadata": {},
          "execution_count": 44
        }
      ],
      "source": [
        "p"
      ]
    },
    {
      "cell_type": "code",
      "execution_count": null,
      "metadata": {
        "colab": {
          "base_uri": "https://localhost:8080/"
        },
        "id": "-YxFtzCoT_re",
        "outputId": "acc6be99-e246-4c97-c642-b881b46d167b"
      },
      "outputs": [
        {
          "output_type": "execute_result",
          "data": {
            "text/plain": [
              "tensor([[16, 13,  7, 22, 16],\n",
              "        [ 9, 12,  9, 20,  8]])"
            ]
          },
          "metadata": {},
          "execution_count": 45
        }
      ],
      "source": [
        "p.sum(dim = 1)"
      ]
    },
    {
      "cell_type": "code",
      "execution_count": null,
      "metadata": {
        "colab": {
          "base_uri": "https://localhost:8080/"
        },
        "id": "QoT36gQQZWN4",
        "outputId": "6a37021a-6bc3-46b9-89c3-b62346ba2347"
      },
      "outputs": [
        {
          "output_type": "execute_result",
          "data": {
            "text/plain": [
              "torch.Size([2, 5])"
            ]
          },
          "metadata": {},
          "execution_count": 46
        }
      ],
      "source": [
        "p.sum(dim = 1).shape"
      ]
    },
    {
      "cell_type": "code",
      "execution_count": null,
      "metadata": {
        "colab": {
          "base_uri": "https://localhost:8080/"
        },
        "id": "DPy7kyhxZr0Y",
        "outputId": "cee82e78-3309-4f6d-9315-40dbbba100f3"
      },
      "outputs": [
        {
          "output_type": "execute_result",
          "data": {
            "text/plain": [
              "tensor([[[1, 8, 0, 8, 3],\n",
              "         [8, 2, 5, 7, 7],\n",
              "         [7, 3, 2, 7, 6]],\n",
              "\n",
              "        [[6, 3, 1, 5, 0],\n",
              "         [2, 7, 4, 8, 6],\n",
              "         [1, 2, 4, 7, 2]]])"
            ]
          },
          "metadata": {},
          "execution_count": 47
        }
      ],
      "source": [
        "p"
      ]
    },
    {
      "cell_type": "code",
      "execution_count": null,
      "metadata": {
        "colab": {
          "base_uri": "https://localhost:8080/"
        },
        "id": "0ttYEkpqZZNN",
        "outputId": "19799a52-1d9e-4a0d-c7c9-a13bb54c27b1"
      },
      "outputs": [
        {
          "output_type": "execute_result",
          "data": {
            "text/plain": [
              "tensor([[20, 29, 25],\n",
              "        [15, 27, 16]])"
            ]
          },
          "metadata": {},
          "execution_count": 48
        }
      ],
      "source": [
        "p.sum(dim = 2)"
      ]
    },
    {
      "cell_type": "code",
      "execution_count": null,
      "metadata": {
        "colab": {
          "base_uri": "https://localhost:8080/"
        },
        "id": "Omf4rZc_ZdJn",
        "outputId": "36c2c68b-0544-46ab-a6e9-849904953318"
      },
      "outputs": [
        {
          "output_type": "execute_result",
          "data": {
            "text/plain": [
              "torch.Size([2, 3])"
            ]
          },
          "metadata": {},
          "execution_count": 49
        }
      ],
      "source": [
        "p.sum(dim = 2).shape"
      ]
    },
    {
      "cell_type": "markdown",
      "metadata": {
        "id": "mnHGIbBnbMCT"
      },
      "source": [
        "## Autograd"
      ]
    },
    {
      "cell_type": "markdown",
      "metadata": {
        "id": "7mRemQG9ceEc"
      },
      "source": [
        "$$y=3\\sigma(x) + 5$$"
      ]
    },
    {
      "cell_type": "markdown",
      "metadata": {
        "id": "tlb518e6dLl7"
      },
      "source": [
        "$$\\frac{\\partial y}{ \\partial x} = 3*\\sigma(x)(1-\\sigma(x))$$"
      ]
    },
    {
      "cell_type": "markdown",
      "metadata": {
        "id": "H8LCmqu2dhkr"
      },
      "source": [
        "$$\\frac{\\partial y}{ \\partial x} = 3*\\sigma(2)(1-\\sigma(2))=3*0.8808*(1-0.8808)=0.3149$$"
      ]
    },
    {
      "cell_type": "markdown",
      "source": [
        "when we use autograd, internally there is a computational graph is being created that keeps a track of all the operations."
      ],
      "metadata": {
        "id": "sbUtIGNjFL8F"
      }
    },
    {
      "cell_type": "code",
      "execution_count": null,
      "metadata": {
        "colab": {
          "base_uri": "https://localhost:8080/"
        },
        "id": "dNDBzDSBmGjL",
        "outputId": "7ecc0980-d121-431d-bfd5-d4fedb188786"
      },
      "outputs": [
        {
          "output_type": "execute_result",
          "data": {
            "text/plain": [
              "(False, True)"
            ]
          },
          "metadata": {},
          "execution_count": 2
        }
      ],
      "source": [
        "import torch\n",
        "\n",
        "x = torch.tensor(2.0)\n",
        "x.requires_grad,x.is_leaf"
      ]
    },
    {
      "cell_type": "code",
      "execution_count": null,
      "metadata": {
        "colab": {
          "base_uri": "https://localhost:8080/"
        },
        "id": "aMGUmp1SmW9g",
        "outputId": "d0a31d1e-b474-4a6a-c6ff-e86a1288d6a1"
      },
      "outputs": [
        {
          "output_type": "execute_result",
          "data": {
            "text/plain": [
              "(False, True)"
            ]
          },
          "metadata": {},
          "execution_count": 3
        }
      ],
      "source": [
        "y = 3 * torch.sigmoid(x) + 5\n",
        "y.requires_grad,y.is_leaf"
      ]
    },
    {
      "cell_type": "code",
      "execution_count": null,
      "metadata": {
        "colab": {
          "base_uri": "https://localhost:8080/"
        },
        "id": "Sov55chWbZxe",
        "outputId": "9c96abca-350b-45f6-e09e-53bcf388fe6e"
      },
      "outputs": [
        {
          "output_type": "execute_result",
          "data": {
            "text/plain": [
              "(True, True)"
            ]
          },
          "metadata": {},
          "execution_count": 4
        }
      ],
      "source": [
        "import torch\n",
        "\n",
        "x = torch.tensor(2.0, requires_grad=True)\n",
        "\n",
        "x.requires_grad, x.is_leaf"
      ]
    },
    {
      "cell_type": "code",
      "execution_count": null,
      "metadata": {
        "colab": {
          "base_uri": "https://localhost:8080/"
        },
        "id": "SYmNfN4Um3qX",
        "outputId": "a57dc784-56c7-4e42-efee-b4b814f304f0"
      },
      "outputs": [
        {
          "output_type": "execute_result",
          "data": {
            "text/plain": [
              "tensor(7.6424, grad_fn=<AddBackward0>)"
            ]
          },
          "metadata": {},
          "execution_count": 5
        }
      ],
      "source": [
        "y = 3 * torch.sigmoid(x) + 5\n",
        "y"
      ]
    },
    {
      "cell_type": "code",
      "execution_count": null,
      "metadata": {
        "colab": {
          "base_uri": "https://localhost:8080/"
        },
        "id": "p23Y9d7OfhGE",
        "outputId": "597bc91c-3dad-4bad-fea5-04ea26179474"
      },
      "outputs": [
        {
          "output_type": "execute_result",
          "data": {
            "text/plain": [
              "(True, False)"
            ]
          },
          "metadata": {},
          "execution_count": 6
        }
      ],
      "source": [
        "y.requires_grad,y.is_leaf"
      ]
    },
    {
      "cell_type": "code",
      "execution_count": null,
      "metadata": {
        "colab": {
          "base_uri": "https://localhost:8080/"
        },
        "id": "zbdesTDDfhwK",
        "outputId": "3cd81b3e-7d25-4418-8b55-3a37d6110b4d"
      },
      "outputs": [
        {
          "output_type": "stream",
          "name": "stdout",
          "text": [
            "None\n"
          ]
        }
      ],
      "source": [
        "print(x.grad_fn)"
      ]
    },
    {
      "cell_type": "code",
      "execution_count": null,
      "metadata": {
        "colab": {
          "base_uri": "https://localhost:8080/"
        },
        "id": "Wijukf5qgBMr",
        "outputId": "6aac00a7-5bb7-4cf8-d1e0-55bdda51d7b8"
      },
      "outputs": [
        {
          "output_type": "stream",
          "name": "stdout",
          "text": [
            "<AddBackward0 object at 0x7f089c9f72b0>\n"
          ]
        }
      ],
      "source": [
        "print(y.grad_fn)"
      ]
    },
    {
      "cell_type": "code",
      "execution_count": null,
      "metadata": {
        "colab": {
          "base_uri": "https://localhost:8080/",
          "height": 507
        },
        "id": "nGYKAyMXfwF1",
        "outputId": "74379038-ee10-47e3-e8aa-5ccdef3c094e"
      },
      "outputs": [
        {
          "output_type": "error",
          "ename": "RuntimeError",
          "evalue": "Trying to backward through the graph a second time (or directly access saved tensors after they have already been freed). Saved intermediate values of the graph are freed when you call .backward() or autograd.grad(). Specify retain_graph=True if you need to backward through the graph a second time or if you need to access saved tensors after calling backward.",
          "traceback": [
            "\u001b[0;31m---------------------------------------------------------------------------\u001b[0m",
            "\u001b[0;31mRuntimeError\u001b[0m                              Traceback (most recent call last)",
            "\u001b[0;32m<ipython-input-12-27148fa7e985>\u001b[0m in \u001b[0;36m<cell line: 0>\u001b[0;34m()\u001b[0m\n\u001b[1;32m      1\u001b[0m \u001b[0;31m# print(x.grad)\u001b[0m\u001b[0;34m\u001b[0m\u001b[0;34m\u001b[0m\u001b[0m\n\u001b[0;32m----> 2\u001b[0;31m \u001b[0my\u001b[0m\u001b[0;34m.\u001b[0m\u001b[0mbackward\u001b[0m\u001b[0;34m(\u001b[0m\u001b[0;34m)\u001b[0m\u001b[0;34m\u001b[0m\u001b[0;34m\u001b[0m\u001b[0m\n\u001b[0m\u001b[1;32m      3\u001b[0m \u001b[0;31m# print(x.grad) # dy/dx\u001b[0m\u001b[0;34m\u001b[0m\u001b[0;34m\u001b[0m\u001b[0m\n",
            "\u001b[0;32m/usr/local/lib/python3.11/dist-packages/torch/_tensor.py\u001b[0m in \u001b[0;36mbackward\u001b[0;34m(self, gradient, retain_graph, create_graph, inputs)\u001b[0m\n\u001b[1;32m    579\u001b[0m                 \u001b[0minputs\u001b[0m\u001b[0;34m=\u001b[0m\u001b[0minputs\u001b[0m\u001b[0;34m,\u001b[0m\u001b[0;34m\u001b[0m\u001b[0;34m\u001b[0m\u001b[0m\n\u001b[1;32m    580\u001b[0m             )\n\u001b[0;32m--> 581\u001b[0;31m         torch.autograd.backward(\n\u001b[0m\u001b[1;32m    582\u001b[0m             \u001b[0mself\u001b[0m\u001b[0;34m,\u001b[0m \u001b[0mgradient\u001b[0m\u001b[0;34m,\u001b[0m \u001b[0mretain_graph\u001b[0m\u001b[0;34m,\u001b[0m \u001b[0mcreate_graph\u001b[0m\u001b[0;34m,\u001b[0m \u001b[0minputs\u001b[0m\u001b[0;34m=\u001b[0m\u001b[0minputs\u001b[0m\u001b[0;34m\u001b[0m\u001b[0;34m\u001b[0m\u001b[0m\n\u001b[1;32m    583\u001b[0m         )\n",
            "\u001b[0;32m/usr/local/lib/python3.11/dist-packages/torch/autograd/__init__.py\u001b[0m in \u001b[0;36mbackward\u001b[0;34m(tensors, grad_tensors, retain_graph, create_graph, grad_variables, inputs)\u001b[0m\n\u001b[1;32m    345\u001b[0m     \u001b[0;31m# some Python versions print out the first line of a multi-line function\u001b[0m\u001b[0;34m\u001b[0m\u001b[0;34m\u001b[0m\u001b[0m\n\u001b[1;32m    346\u001b[0m     \u001b[0;31m# calls in the traceback and some print out the last line\u001b[0m\u001b[0;34m\u001b[0m\u001b[0;34m\u001b[0m\u001b[0m\n\u001b[0;32m--> 347\u001b[0;31m     _engine_run_backward(\n\u001b[0m\u001b[1;32m    348\u001b[0m         \u001b[0mtensors\u001b[0m\u001b[0;34m,\u001b[0m\u001b[0;34m\u001b[0m\u001b[0;34m\u001b[0m\u001b[0m\n\u001b[1;32m    349\u001b[0m         \u001b[0mgrad_tensors_\u001b[0m\u001b[0;34m,\u001b[0m\u001b[0;34m\u001b[0m\u001b[0;34m\u001b[0m\u001b[0m\n",
            "\u001b[0;32m/usr/local/lib/python3.11/dist-packages/torch/autograd/graph.py\u001b[0m in \u001b[0;36m_engine_run_backward\u001b[0;34m(t_outputs, *args, **kwargs)\u001b[0m\n\u001b[1;32m    823\u001b[0m         \u001b[0munregister_hooks\u001b[0m \u001b[0;34m=\u001b[0m \u001b[0m_register_logging_hooks_on_whole_graph\u001b[0m\u001b[0;34m(\u001b[0m\u001b[0mt_outputs\u001b[0m\u001b[0;34m)\u001b[0m\u001b[0;34m\u001b[0m\u001b[0;34m\u001b[0m\u001b[0m\n\u001b[1;32m    824\u001b[0m     \u001b[0;32mtry\u001b[0m\u001b[0;34m:\u001b[0m\u001b[0;34m\u001b[0m\u001b[0;34m\u001b[0m\u001b[0m\n\u001b[0;32m--> 825\u001b[0;31m         return Variable._execution_engine.run_backward(  # Calls into the C++ engine to run the backward pass\n\u001b[0m\u001b[1;32m    826\u001b[0m             \u001b[0mt_outputs\u001b[0m\u001b[0;34m,\u001b[0m \u001b[0;34m*\u001b[0m\u001b[0margs\u001b[0m\u001b[0;34m,\u001b[0m \u001b[0;34m**\u001b[0m\u001b[0mkwargs\u001b[0m\u001b[0;34m\u001b[0m\u001b[0;34m\u001b[0m\u001b[0m\n\u001b[1;32m    827\u001b[0m         )  # Calls into the C++ engine to run the backward pass\n",
            "\u001b[0;31mRuntimeError\u001b[0m: Trying to backward through the graph a second time (or directly access saved tensors after they have already been freed). Saved intermediate values of the graph are freed when you call .backward() or autograd.grad(). Specify retain_graph=True if you need to backward through the graph a second time or if you need to access saved tensors after calling backward."
          ]
        }
      ],
      "source": [
        "print(x.grad)\n",
        "y.backward()\n",
        "print(x.grad) # dy/dx"
      ]
    },
    {
      "cell_type": "code",
      "execution_count": null,
      "metadata": {
        "colab": {
          "base_uri": "https://localhost:8080/"
        },
        "id": "OOQzVLT-oebm",
        "outputId": "8f826ddb-5267-4d4a-ecc7-66c89ed38a6a"
      },
      "outputs": [
        {
          "output_type": "execute_result",
          "data": {
            "text/plain": [
              "tensor(0.3150)"
            ]
          },
          "metadata": {},
          "execution_count": 15
        }
      ],
      "source": [
        "x.grad.zero_()\n",
        "y = 3 * torch.sigmoid(x) + 5\n",
        "y.backward()\n",
        "x.grad\n"
      ]
    },
    {
      "cell_type": "code",
      "execution_count": null,
      "metadata": {
        "colab": {
          "base_uri": "https://localhost:8080/"
        },
        "id": "LeWIzeG-iora",
        "outputId": "e8607a4b-6bc9-4b72-986b-e74dd01a5c6c"
      },
      "outputs": [
        {
          "output_type": "execute_result",
          "data": {
            "text/plain": [
              "tensor([[0.1102, 0.1219, 0.8161, 0.6562, 0.0771],\n",
              "        [0.0995, 0.1412, 0.5633, 0.6045, 0.6629]], requires_grad=True)"
            ]
          },
          "metadata": {},
          "execution_count": 14
        }
      ],
      "source": [
        "a = torch.rand(2, 5, requires_grad=True)\n",
        "a"
      ]
    },
    {
      "cell_type": "code",
      "execution_count": null,
      "metadata": {
        "colab": {
          "base_uri": "https://localhost:8080/"
        },
        "id": "y8gfgbSpG9aT",
        "outputId": "08b99b1a-e02a-4c15-a7e6-e774470f7fe7"
      },
      "outputs": [
        {
          "output_type": "execute_result",
          "data": {
            "text/plain": [
              "tensor([[5.1223, 5.1368, 6.4820, 6.0869, 5.0831],\n",
              "        [5.1094, 5.1612, 5.8805, 5.9699, 6.1024]], grad_fn=<AddBackward0>)"
            ]
          },
          "metadata": {},
          "execution_count": 15
        }
      ],
      "source": [
        "b = a * a + a + 5\n",
        "b"
      ]
    },
    {
      "cell_type": "code",
      "execution_count": null,
      "metadata": {
        "colab": {
          "base_uri": "https://localhost:8080/"
        },
        "id": "NkYnk5Z4H2-Q",
        "outputId": "acf99e9f-eb9d-4d03-d0d7-0f7c391219b1"
      },
      "outputs": [
        {
          "output_type": "execute_result",
          "data": {
            "text/plain": [
              "tensor(5.6134, grad_fn=<MeanBackward0>)"
            ]
          },
          "metadata": {},
          "execution_count": 16
        }
      ],
      "source": [
        "c = b.mean()\n",
        "c"
      ]
    },
    {
      "cell_type": "code",
      "execution_count": null,
      "metadata": {
        "colab": {
          "base_uri": "https://localhost:8080/"
        },
        "id": "gTlqGFNSgkSe",
        "outputId": "448e09f7-479a-43c5-eaae-6343285057db"
      },
      "outputs": [
        {
          "output_type": "execute_result",
          "data": {
            "text/plain": [
              "(True, False, False)"
            ]
          },
          "metadata": {},
          "execution_count": 17
        }
      ],
      "source": [
        "\n",
        "a.is_leaf,b.is_leaf,c.is_leaf"
      ]
    },
    {
      "cell_type": "code",
      "execution_count": null,
      "metadata": {
        "id": "VLeKGNAwgyFn"
      },
      "outputs": [],
      "source": [
        "b.retain_grad()"
      ]
    },
    {
      "cell_type": "code",
      "execution_count": null,
      "metadata": {
        "colab": {
          "base_uri": "https://localhost:8080/"
        },
        "id": "2UnE9EnLIO2W",
        "outputId": "e77f7be5-4aeb-415a-8421-34ed7af3511d"
      },
      "outputs": [
        {
          "output_type": "stream",
          "name": "stdout",
          "text": [
            "None\n",
            "tensor([[0.1220, 0.1244, 0.2632, 0.2312, 0.1154],\n",
            "        [0.1199, 0.1282, 0.2127, 0.2209, 0.2326]])\n"
          ]
        }
      ],
      "source": [
        "print(a.grad) # Before gradient computation\n",
        "c.backward()\n",
        "print(a.grad) # After gradient computation #dc/da"
      ]
    },
    {
      "cell_type": "code",
      "execution_count": null,
      "metadata": {
        "colab": {
          "base_uri": "https://localhost:8080/"
        },
        "id": "BOt8Y6uGg_xk",
        "outputId": "4066520d-c33d-4f73-b761-7f1e928b5302"
      },
      "outputs": [
        {
          "output_type": "execute_result",
          "data": {
            "text/plain": [
              "tensor([[0.1000, 0.1000, 0.1000, 0.1000, 0.1000],\n",
              "        [0.1000, 0.1000, 0.1000, 0.1000, 0.1000]])"
            ]
          },
          "metadata": {},
          "execution_count": 20
        }
      ],
      "source": [
        "b.grad"
      ]
    },
    {
      "cell_type": "markdown",
      "metadata": {
        "id": "MQP_rugHjtcG"
      },
      "source": [
        "### Gradient Descent"
      ]
    },
    {
      "cell_type": "code",
      "execution_count": null,
      "metadata": {
        "colab": {
          "base_uri": "https://localhost:8080/"
        },
        "id": "B1itqZ9ylehv",
        "outputId": "36991e78-da83-4715-9740-1ca1b46751ac"
      },
      "outputs": [
        {
          "output_type": "execute_result",
          "data": {
            "text/plain": [
              "(tensor([[-2.0000],\n",
              "         [-1.2857],\n",
              "         [-0.5714],\n",
              "         [ 0.1429],\n",
              "         [ 0.8571],\n",
              "         [ 1.5714],\n",
              "         [ 2.2857],\n",
              "         [ 3.0000],\n",
              "         [ 3.7143],\n",
              "         [ 4.4286],\n",
              "         [ 5.1429],\n",
              "         [ 5.8571],\n",
              "         [ 6.5714],\n",
              "         [ 7.2857],\n",
              "         [ 8.0000]]),\n",
              " tensor([3]),\n",
              " tensor([5]))"
            ]
          },
          "metadata": {},
          "execution_count": 21
        }
      ],
      "source": [
        "# Generate train data # y = 5 * x + 3\n",
        "x = torch.linspace(-1.0,1.0,15).reshape(15,1)\n",
        "w = torch.tensor([5])\n",
        "b = torch.tensor([3])\n",
        "y = w * x + b\n",
        "y , b , w"
      ]
    },
    {
      "cell_type": "code",
      "source": [
        "print(x)# Parameter initialization\n",
        "w = torch.randn(size=(1,1), requires_grad=True)\n",
        "b = torch.randn(size=(1,1), requires_grad=True)\n",
        "print(w)\n",
        "print(b)\n",
        "print(x+b)"
      ],
      "metadata": {
        "colab": {
          "base_uri": "https://localhost:8080/"
        },
        "id": "ec6Q33_IQDXb",
        "outputId": "5142b093-0218-42ed-cfcc-ddd21aadc79e"
      },
      "execution_count": null,
      "outputs": [
        {
          "output_type": "stream",
          "name": "stdout",
          "text": [
            "tensor([[-1.0000e+00],\n",
            "        [-8.5714e-01],\n",
            "        [-7.1429e-01],\n",
            "        [-5.7143e-01],\n",
            "        [-4.2857e-01],\n",
            "        [-2.8571e-01],\n",
            "        [-1.4286e-01],\n",
            "        [-4.4703e-08],\n",
            "        [ 1.4286e-01],\n",
            "        [ 2.8571e-01],\n",
            "        [ 4.2857e-01],\n",
            "        [ 5.7143e-01],\n",
            "        [ 7.1429e-01],\n",
            "        [ 8.5714e-01],\n",
            "        [ 1.0000e+00]])\n",
            "tensor([[-1.1479]], requires_grad=True)\n",
            "tensor([[1.1382]], requires_grad=True)\n",
            "tensor([[0.1382],\n",
            "        [0.2810],\n",
            "        [0.4239],\n",
            "        [0.5667],\n",
            "        [0.7096],\n",
            "        [0.8524],\n",
            "        [0.9953],\n",
            "        [1.1382],\n",
            "        [1.2810],\n",
            "        [1.4239],\n",
            "        [1.5667],\n",
            "        [1.7096],\n",
            "        [1.8524],\n",
            "        [1.9953],\n",
            "        [2.1382]], grad_fn=<AddBackward0>)\n"
          ]
        }
      ]
    },
    {
      "cell_type": "code",
      "execution_count": null,
      "metadata": {
        "colab": {
          "base_uri": "https://localhost:8080/"
        },
        "id": "XoQ5l1cqjrhb",
        "outputId": "58d2d278-77b1-424f-dd18-7cd2f831b635"
      },
      "outputs": [
        {
          "output_type": "stream",
          "name": "stdout",
          "text": [
            "w: tensor([[-1.1479]], requires_grad=True)\n",
            "b: tensor([[1.1382]], requires_grad=True)\n"
          ]
        }
      ],
      "source": [
        "\n",
        "\n",
        "def forward(x):\n",
        "    return w * x + b\n",
        "\n",
        "def loss(y, y_pred):\n",
        "    return ((y_pred - y)**2).mean()\n",
        "\n",
        "print('w:',w)\n",
        "print('b:',b)"
      ]
    },
    {
      "cell_type": "code",
      "execution_count": null,
      "metadata": {
        "colab": {
          "base_uri": "https://localhost:8080/"
        },
        "id": "hdKOO88oj3Ir",
        "outputId": "16536d16-bd5e-4e07-ce46-d35c975e4967"
      },
      "outputs": [
        {
          "output_type": "stream",
          "name": "stdout",
          "text": [
            "epoch 10: w = 0.121, b = 1.997,loss = 10.635\n",
            "epoch 20: w = 1.128, b = 2.460,loss = 6.311\n",
            "epoch 30: w = 1.928, b = 2.709,loss = 3.862\n",
            "epoch 40: w = 2.562, b = 2.843,loss = 2.399\n",
            "epoch 50: w = 3.065, b = 2.916,loss = 1.502\n",
            "epoch 60: w = 3.465, b = 2.955,loss = 0.943\n",
            "epoch 70: w = 3.782, b = 2.976,loss = 0.593\n",
            "epoch 80: w = 4.033, b = 2.987,loss = 0.373\n",
            "epoch 90: w = 4.233, b = 2.993,loss = 0.235\n",
            "epoch 100: w = 4.391, b = 2.996,loss = 0.148\n",
            "epoch 110: w = 4.517, b = 2.998,loss = 0.093\n",
            "epoch 120: w = 4.617, b = 2.999,loss = 0.059\n",
            "epoch 130: w = 4.696, b = 2.999,loss = 0.037\n",
            "epoch 140: w = 4.759, b = 3.000,loss = 0.023\n",
            "epoch 150: w = 4.808, b = 3.000,loss = 0.015\n",
            "epoch 160: w = 4.848, b = 3.000,loss = 0.009\n",
            "epoch 170: w = 4.879, b = 3.000,loss = 0.006\n",
            "epoch 180: w = 4.904, b = 3.000,loss = 0.004\n"
          ]
        }
      ],
      "source": [
        "# Define hyperparameters\n",
        "learning_rate = 0.03\n",
        "num_epochs = 180\n",
        "\n",
        "# Train the model\n",
        "for epoch in range(num_epochs):\n",
        "    y_pred = forward(x)\n",
        "\n",
        "    l = loss(y, y_pred)\n",
        "\n",
        "    l.backward()\n",
        "\n",
        "    with torch.no_grad():\n",
        "      w -= learning_rate * w.grad\n",
        "      b -= learning_rate * b.grad\n",
        "\n",
        "    w.grad.zero_()\n",
        "    b.grad.zero_()\n",
        "\n",
        "    if (epoch+1) % 10 == 0:\n",
        "        print(f'epoch {epoch+1}: w = {w.item():.3f}, b = {b.item():.3f},loss = {l.item():.3f}')"
      ]
    },
    {
      "cell_type": "markdown",
      "metadata": {
        "id": "xUn8YynVydjP"
      },
      "source": [
        "## Neural Networks"
      ]
    },
    {
      "cell_type": "code",
      "execution_count": null,
      "metadata": {
        "id": "mgCSzNOHydJy"
      },
      "outputs": [],
      "source": [
        "import torch\n",
        "import torch.nn as nn\n",
        "#import torch.nn.functional as F\n",
        "import torch.optim as optim\n",
        "\n",
        "from torchvision import datasets,transforms"
      ]
    },
    {
      "cell_type": "code",
      "execution_count": null,
      "metadata": {
        "id": "ik2W138nEb9X"
      },
      "outputs": [],
      "source": [
        "device = torch.device('cuda' if torch.cuda.is_available() else 'cpu')"
      ]
    },
    {
      "cell_type": "code",
      "execution_count": null,
      "metadata": {
        "colab": {
          "base_uri": "https://localhost:8080/"
        },
        "id": "Gg4ZLyenHkGz",
        "outputId": "2955c884-e968-4da9-add0-54b060c70231"
      },
      "outputs": [
        {
          "output_type": "stream",
          "name": "stdout",
          "text": [
            "['CIFAR10', 'CIFAR100', 'CLEVRClassification', 'CREStereo', 'Caltech101', 'Caltech256', 'CarlaStereo', 'CelebA', 'Cityscapes', 'CocoCaptions', 'CocoDetection', 'Country211', 'DTD', 'DatasetFolder', 'EMNIST', 'ETH3DStereo', 'EuroSAT', 'FER2013', 'FGVCAircraft', 'FakeData', 'FallingThingsStereo', 'FashionMNIST', 'Flickr30k', 'Flickr8k', 'Flowers102', 'FlyingChairs', 'FlyingThings3D', 'Food101', 'GTSRB', 'HD1K', 'HMDB51', 'INaturalist', 'ImageFolder', 'ImageNet', 'Imagenette', 'InStereo2k', 'KMNIST', 'Kinetics', 'Kitti', 'Kitti2012Stereo', 'Kitti2015Stereo', 'KittiFlow', 'LFWPairs', 'LFWPeople', 'LSUN', 'LSUNClass', 'MNIST', 'Middlebury2014Stereo', 'MovingMNIST', 'Omniglot', 'OxfordIIITPet', 'PCAM', 'PhotoTour', 'Places365', 'QMNIST', 'RenderedSST2', 'SBDataset', 'SBU', 'SEMEION', 'STL10', 'SUN397', 'SVHN', 'SceneFlowStereo', 'Sintel', 'SintelStereo', 'StanfordCars', 'UCF101', 'USPS', 'VOCDetection', 'VOCSegmentation', 'VisionDataset', 'WIDERFace', '__all__', '__builtins__', '__cached__', '__doc__', '__file__', '__getattr__', '__loader__', '__name__', '__package__', '__path__', '__spec__', '_optical_flow', '_stereo_matching', 'caltech', 'celeba', 'cifar', 'cityscapes', 'clevr', 'coco', 'country211', 'dtd', 'eurosat', 'fakedata', 'fer2013', 'fgvc_aircraft', 'flickr', 'flowers102', 'folder', 'food101', 'gtsrb', 'hmdb51', 'imagenet', 'imagenette', 'inaturalist', 'kinetics', 'kitti', 'lfw', 'lsun', 'mnist', 'moving_mnist', 'omniglot', 'oxford_iiit_pet', 'pcam', 'phototour', 'places365', 'rendered_sst2', 'sbd', 'sbu', 'semeion', 'stanford_cars', 'stl10', 'sun397', 'svhn', 'ucf101', 'usps', 'utils', 'video_utils', 'vision', 'voc', 'widerface']\n"
          ]
        }
      ],
      "source": [
        "print(dir(datasets))"
      ]
    },
    {
      "cell_type": "code",
      "execution_count": null,
      "metadata": {
        "id": "0MmpY18FxIqm"
      },
      "outputs": [],
      "source": [
        "## Hyper-parameters\n",
        "hidden_size = 400\n",
        "num_epochs = 8\n",
        "batch_size = 32\n",
        "learning_rate = 0.0001"
      ]
    },
    {
      "cell_type": "code",
      "execution_count": null,
      "metadata": {
        "colab": {
          "base_uri": "https://localhost:8080/"
        },
        "id": "VetrSviG0V4H",
        "outputId": "20792fc2-ec9d-45c1-c5d3-73264ed7a7ed"
      },
      "outputs": [
        {
          "output_type": "stream",
          "name": "stdout",
          "text": [
            "Downloading http://yann.lecun.com/exdb/mnist/train-images-idx3-ubyte.gz\n",
            "Failed to download (trying next):\n",
            "HTTP Error 404: Not Found\n",
            "\n",
            "Downloading https://ossci-datasets.s3.amazonaws.com/mnist/train-images-idx3-ubyte.gz\n",
            "Downloading https://ossci-datasets.s3.amazonaws.com/mnist/train-images-idx3-ubyte.gz to ./data/MNIST/raw/train-images-idx3-ubyte.gz\n"
          ]
        },
        {
          "output_type": "stream",
          "name": "stderr",
          "text": [
            "100%|██████████| 9.91M/9.91M [00:00<00:00, 60.0MB/s]\n"
          ]
        },
        {
          "output_type": "stream",
          "name": "stdout",
          "text": [
            "Extracting ./data/MNIST/raw/train-images-idx3-ubyte.gz to ./data/MNIST/raw\n",
            "\n",
            "Downloading http://yann.lecun.com/exdb/mnist/train-labels-idx1-ubyte.gz\n",
            "Failed to download (trying next):\n",
            "HTTP Error 404: Not Found\n",
            "\n",
            "Downloading https://ossci-datasets.s3.amazonaws.com/mnist/train-labels-idx1-ubyte.gz\n",
            "Downloading https://ossci-datasets.s3.amazonaws.com/mnist/train-labels-idx1-ubyte.gz to ./data/MNIST/raw/train-labels-idx1-ubyte.gz\n"
          ]
        },
        {
          "output_type": "stream",
          "name": "stderr",
          "text": [
            "100%|██████████| 28.9k/28.9k [00:00<00:00, 1.84MB/s]\n"
          ]
        },
        {
          "output_type": "stream",
          "name": "stdout",
          "text": [
            "Extracting ./data/MNIST/raw/train-labels-idx1-ubyte.gz to ./data/MNIST/raw\n",
            "\n",
            "Downloading http://yann.lecun.com/exdb/mnist/t10k-images-idx3-ubyte.gz\n",
            "Failed to download (trying next):\n",
            "HTTP Error 404: Not Found\n",
            "\n",
            "Downloading https://ossci-datasets.s3.amazonaws.com/mnist/t10k-images-idx3-ubyte.gz\n",
            "Downloading https://ossci-datasets.s3.amazonaws.com/mnist/t10k-images-idx3-ubyte.gz to ./data/MNIST/raw/t10k-images-idx3-ubyte.gz\n"
          ]
        },
        {
          "output_type": "stream",
          "name": "stderr",
          "text": [
            "100%|██████████| 1.65M/1.65M [00:00<00:00, 14.0MB/s]\n"
          ]
        },
        {
          "output_type": "stream",
          "name": "stdout",
          "text": [
            "Extracting ./data/MNIST/raw/t10k-images-idx3-ubyte.gz to ./data/MNIST/raw\n",
            "\n",
            "Downloading http://yann.lecun.com/exdb/mnist/t10k-labels-idx1-ubyte.gz\n",
            "Failed to download (trying next):\n",
            "HTTP Error 404: Not Found\n",
            "\n",
            "Downloading https://ossci-datasets.s3.amazonaws.com/mnist/t10k-labels-idx1-ubyte.gz\n",
            "Downloading https://ossci-datasets.s3.amazonaws.com/mnist/t10k-labels-idx1-ubyte.gz to ./data/MNIST/raw/t10k-labels-idx1-ubyte.gz\n"
          ]
        },
        {
          "output_type": "stream",
          "name": "stderr",
          "text": [
            "100%|██████████| 4.54k/4.54k [00:00<00:00, 5.30MB/s]"
          ]
        },
        {
          "output_type": "stream",
          "name": "stdout",
          "text": [
            "Extracting ./data/MNIST/raw/t10k-labels-idx1-ubyte.gz to ./data/MNIST/raw\n",
            "\n"
          ]
        },
        {
          "output_type": "stream",
          "name": "stderr",
          "text": [
            "\n"
          ]
        }
      ],
      "source": [
        "## Load the MNIST dataset\n",
        "train_dataset = datasets.MNIST(root='./data', train=True, download=True, transform=transforms.ToTensor())\n",
        "test_dataset = datasets.MNIST(root='./data', train=False, download=True, transform=transforms.ToTensor())"
      ]
    },
    {
      "cell_type": "code",
      "execution_count": null,
      "metadata": {
        "colab": {
          "base_uri": "https://localhost:8080/"
        },
        "id": "c0h-djeY1To4",
        "outputId": "38a186ec-25a3-4a80-857e-73ac1df753cc"
      },
      "outputs": [
        {
          "output_type": "stream",
          "name": "stdout",
          "text": [
            "['0 - zero', '1 - one', '2 - two', '3 - three', '4 - four', '5 - five', '6 - six', '7 - seven', '8 - eight', '9 - nine']\n",
            "torch.Size([60000, 28, 28])\n",
            "torch.Size([60000])\n"
          ]
        }
      ],
      "source": [
        "## Training Data\n",
        "print(train_dataset.classes)\n",
        "print(train_dataset.data.shape)\n",
        "print(train_dataset.targets.shape)"
      ]
    },
    {
      "cell_type": "code",
      "execution_count": null,
      "metadata": {
        "colab": {
          "base_uri": "https://localhost:8080/"
        },
        "id": "tjDag3Hp2jB7",
        "outputId": "c6d2bec9-79e9-472f-cd07-81a5820a3968"
      },
      "outputs": [
        {
          "output_type": "stream",
          "name": "stdout",
          "text": [
            "['0 - zero', '1 - one', '2 - two', '3 - three', '4 - four', '5 - five', '6 - six', '7 - seven', '8 - eight', '9 - nine']\n",
            "torch.Size([10000, 28, 28])\n",
            "torch.Size([10000])\n"
          ]
        }
      ],
      "source": [
        "## Test Data\n",
        "print(test_dataset.classes)\n",
        "print(test_dataset.data.shape)\n",
        "print(test_dataset.targets.shape)"
      ]
    },
    {
      "cell_type": "code",
      "execution_count": null,
      "metadata": {
        "id": "taemlQ95FeR2"
      },
      "outputs": [],
      "source": [
        "in_features = 784 # Input size - 28 x 28 we'll flatten this 28 * 28\n",
        "out_features = 10 # no. of classes"
      ]
    },
    {
      "cell_type": "code",
      "execution_count": null,
      "metadata": {
        "id": "PjwnlYS3x9mf"
      },
      "outputs": [],
      "source": [
        "train_dataloader = torch.utils.data.DataLoader(dataset=train_dataset, batch_size = batch_size, shuffle=True)\n",
        "\n",
        "test_dataloader = torch.utils.data.DataLoader(dataset=test_dataset, batch_size = batch_size, shuffle=False)"
      ]
    },
    {
      "cell_type": "code",
      "execution_count": null,
      "metadata": {
        "colab": {
          "base_uri": "https://localhost:8080/",
          "height": 162
        },
        "id": "jk5wE3gB28yO",
        "outputId": "7be4691d-e2cb-47e4-cd54-97c993a96f51"
      },
      "outputs": [
        {
          "output_type": "stream",
          "name": "stdout",
          "text": [
            "torch.Size([32, 1, 28, 28])\n",
            "torch.Size([32])\n"
          ]
        },
        {
          "output_type": "display_data",
          "data": {
            "text/plain": [
              "<Figure size 640x480 with 10 Axes>"
            ],
            "image/png": "[encoded data removed]"
          },
          "metadata": {}
        }
      ],
      "source": [
        "import matplotlib.pyplot as plt\n",
        "\n",
        "data = iter(train_dataloader)\n",
        "imgs,labels = next(data)\n",
        "print(imgs.shape)\n",
        "print(labels.shape)\n",
        "\n",
        "for i in range(10):\n",
        "    plt.subplot(1,10,i+1)\n",
        "    plt.imshow(imgs[i][0], cmap='gray')\n",
        "    plt.xlabel(f'Label = {labels[i].item()}')\n",
        "plt.show()"
      ]
    },
    {
      "cell_type": "code",
      "execution_count": null,
      "metadata": {
        "id": "qw7zfOSI877B"
      },
      "outputs": [],
      "source": [
        "class BasicNeuralNet(nn.Module):\n",
        "  #define constructor which is the skeleton of nn\n",
        "    def __init__(self,hidden_size):\n",
        "      #call the constructor of te base class\n",
        "        super(BasicNeuralNet, self).__init__()\n",
        "        self.hidden_size = hidden_size\n",
        "        self.layer1 = nn.Linear(in_features, self.hidden_size)\n",
        "        self.layer2 = nn.Linear(self.hidden_size, out_features)\n",
        "\n",
        "    def forward(self, x):\n",
        "      #here x is the input\n",
        "        out = self.layer1(x)\n",
        "        out = torch.relu(out)\n",
        "        out = self.layer2(out)\n",
        "        #problem is multiclass classification so for this we will use cross entropy loss\n",
        "        return out\n",
        "\n",
        "model = BasicNeuralNet(hidden_size).to(device)"
      ]
    },
    {
      "cell_type": "code",
      "execution_count": null,
      "metadata": {
        "id": "ysdP1TaHGZgW"
      },
      "outputs": [],
      "source": [
        "w1,b1,w2,b2 = list(model.parameters())"
      ]
    },
    {
      "cell_type": "code",
      "execution_count": null,
      "metadata": {
        "colab": {
          "base_uri": "https://localhost:8080/"
        },
        "id": "Wg0j1WgdSHTz",
        "outputId": "ab4d9d3b-7700-4b91-d078-df8e2e509ac4"
      },
      "outputs": [
        {
          "output_type": "stream",
          "name": "stdout",
          "text": [
            "torch.Size([400, 784])\n",
            "torch.Size([400])\n"
          ]
        }
      ],
      "source": [
        "# First linear layer\n",
        "# print(w1,b1)\n",
        "print(w1.shape) #(out_features,in_feat\n",
        "print(b1.shape)"
      ]
    },
    {
      "cell_type": "code",
      "execution_count": null,
      "metadata": {
        "colab": {
          "base_uri": "https://localhost:8080/"
        },
        "id": "TKgt0AodSVDO",
        "outputId": "ecc3ce6c-9181-47bd-ac00-9f2c29e36d12"
      },
      "outputs": [
        {
          "output_type": "stream",
          "name": "stdout",
          "text": [
            "Parameter containing:\n",
            "tensor([[-0.0255,  0.0107, -0.0297,  ...,  0.0443,  0.0125, -0.0347],\n",
            "        [-0.0040, -0.0156,  0.0387,  ..., -0.0190,  0.0221, -0.0092],\n",
            "        [-0.0438, -0.0431, -0.0140,  ...,  0.0473, -0.0102, -0.0320],\n",
            "        ...,\n",
            "        [-0.0128,  0.0280, -0.0052,  ...,  0.0034, -0.0087, -0.0183],\n",
            "        [ 0.0498, -0.0435, -0.0388,  ...,  0.0457,  0.0198, -0.0079],\n",
            "        [-0.0483, -0.0154, -0.0168,  ...,  0.0027,  0.0230, -0.0226]],\n",
            "       device='cuda:0', requires_grad=True) Parameter containing:\n",
            "tensor([ 0.0091, -0.0485, -0.0381, -0.0262,  0.0218, -0.0190, -0.0493, -0.0258,\n",
            "        -0.0407, -0.0235], device='cuda:0', requires_grad=True)\n",
            "torch.Size([10, 400])\n",
            "torch.Size([10])\n"
          ]
        }
      ],
      "source": [
        "# Second linear layer\n",
        "print(w2,b2)\n",
        "print(w2.shape)\n",
        "print(b2.shape)"
      ]
    },
    {
      "cell_type": "code",
      "execution_count": null,
      "metadata": {
        "id": "_0kc0IAEEo31"
      },
      "outputs": [],
      "source": [
        "criterion = nn.CrossEntropyLoss() # Loss\n",
        "optimizer = optim.Adam(model.parameters(), lr=learning_rate)"
      ]
    },
    {
      "cell_type": "code",
      "execution_count": null,
      "metadata": {
        "colab": {
          "base_uri": "https://localhost:8080/"
        },
        "id": "Cs7gzjxVEs8x",
        "outputId": "e5769553-0ff0-4d60-c827-283aaec535f7"
      },
      "outputs": [
        {
          "output_type": "stream",
          "name": "stdout",
          "text": [
            "Epoch 0, Step 0/1875, Loss: 2.290\n",
            "Epoch 0, Step 300/1875, Loss: 0.621\n",
            "Epoch 0, Step 600/1875, Loss: 0.306\n",
            "Epoch 0, Step 900/1875, Loss: 0.574\n",
            "Epoch 0, Step 1200/1875, Loss: 0.259\n",
            "Epoch 0, Step 1500/1875, Loss: 0.184\n",
            "Epoch 0, Step 1800/1875, Loss: 0.518\n",
            "Epoch 1, Step 0/1875, Loss: 0.347\n",
            "Epoch 1, Step 300/1875, Loss: 0.156\n",
            "Epoch 1, Step 600/1875, Loss: 0.367\n",
            "Epoch 1, Step 900/1875, Loss: 0.156\n",
            "Epoch 1, Step 1200/1875, Loss: 0.120\n",
            "Epoch 1, Step 1500/1875, Loss: 0.309\n",
            "Epoch 1, Step 1800/1875, Loss: 0.100\n",
            "Epoch 2, Step 0/1875, Loss: 0.161\n",
            "Epoch 2, Step 300/1875, Loss: 0.154\n",
            "Epoch 2, Step 600/1875, Loss: 0.098\n",
            "Epoch 2, Step 900/1875, Loss: 0.168\n",
            "Epoch 2, Step 1200/1875, Loss: 0.276\n",
            "Epoch 2, Step 1500/1875, Loss: 0.161\n",
            "Epoch 2, Step 1800/1875, Loss: 0.318\n",
            "Epoch 3, Step 0/1875, Loss: 0.193\n",
            "Epoch 3, Step 300/1875, Loss: 0.058\n",
            "Epoch 3, Step 600/1875, Loss: 0.090\n",
            "Epoch 3, Step 900/1875, Loss: 0.167\n",
            "Epoch 3, Step 1200/1875, Loss: 0.039\n",
            "Epoch 3, Step 1500/1875, Loss: 0.228\n",
            "Epoch 3, Step 1800/1875, Loss: 0.263\n",
            "Epoch 4, Step 0/1875, Loss: 0.140\n",
            "Epoch 4, Step 300/1875, Loss: 0.046\n",
            "Epoch 4, Step 600/1875, Loss: 0.113\n",
            "Epoch 4, Step 900/1875, Loss: 0.112\n",
            "Epoch 4, Step 1200/1875, Loss: 0.389\n",
            "Epoch 4, Step 1500/1875, Loss: 0.438\n",
            "Epoch 4, Step 1800/1875, Loss: 0.120\n",
            "Epoch 5, Step 0/1875, Loss: 0.077\n",
            "Epoch 5, Step 300/1875, Loss: 0.128\n",
            "Epoch 5, Step 600/1875, Loss: 0.021\n",
            "Epoch 5, Step 900/1875, Loss: 0.059\n",
            "Epoch 5, Step 1200/1875, Loss: 0.059\n",
            "Epoch 5, Step 1500/1875, Loss: 0.045\n",
            "Epoch 5, Step 1800/1875, Loss: 0.121\n",
            "Epoch 6, Step 0/1875, Loss: 0.074\n",
            "Epoch 6, Step 300/1875, Loss: 0.115\n",
            "Epoch 6, Step 600/1875, Loss: 0.037\n",
            "Epoch 6, Step 900/1875, Loss: 0.106\n",
            "Epoch 6, Step 1200/1875, Loss: 0.102\n",
            "Epoch 6, Step 1500/1875, Loss: 0.079\n",
            "Epoch 6, Step 1800/1875, Loss: 0.211\n",
            "Epoch 7, Step 0/1875, Loss: 0.036\n",
            "Epoch 7, Step 300/1875, Loss: 0.021\n",
            "Epoch 7, Step 600/1875, Loss: 0.101\n",
            "Epoch 7, Step 900/1875, Loss: 0.138\n",
            "Epoch 7, Step 1200/1875, Loss: 0.306\n",
            "Epoch 7, Step 1500/1875, Loss: 0.085\n",
            "Epoch 7, Step 1800/1875, Loss: 0.053\n"
          ]
        }
      ],
      "source": [
        "# Training\n",
        "total_steps = len(train_dataloader)\n",
        "for epoch in range(num_epochs):\n",
        "    for i, (images, labels) in enumerate(train_dataloader):\n",
        "        images = images.reshape(-1, 28*28).to(device)\n",
        "        labels = labels.to(device)\n",
        "\n",
        "        # Forward pass\n",
        "        outputs = model(images)\n",
        "\n",
        "        loss = criterion(outputs, labels)\n",
        "\n",
        "        # Backpropagation\n",
        "        loss.backward()\n",
        "\n",
        "        optimizer.step() # Parameter update\n",
        "        optimizer.zero_grad()\n",
        "\n",
        "        if i % 300 == 0:\n",
        "            print (f'Epoch {epoch}, Step {i}/{total_steps}, Loss: {loss.item():.3f}')"
      ]
    },
    {
      "cell_type": "code",
      "execution_count": null,
      "metadata": {
        "colab": {
          "base_uri": "https://localhost:8080/"
        },
        "id": "Hek2mZrxE8eo",
        "outputId": "2f30d360-68f4-4faa-9c17-2c08062724c6"
      },
      "outputs": [
        {
          "output_type": "stream",
          "name": "stdout",
          "text": [
            "Accuracy: 96.83 %\n"
          ]
        }
      ],
      "source": [
        "# Test the model\n",
        "with torch.no_grad():\n",
        "    correct = 0\n",
        "    num_samples = len(test_dataloader.dataset)\n",
        "\n",
        "    for imgs, labels in test_dataloader:\n",
        "        imgs = imgs.reshape(-1, 28*28).to(device)\n",
        "        labels = labels.to(device)\n",
        "\n",
        "        outputs = model(imgs)\n",
        "\n",
        "        _, predicted = torch.max(outputs, 1)\n",
        "        correct += (predicted == labels).sum().item()\n",
        "\n",
        "    acc = correct / num_samples\n",
        "    print(f'Accuracy: {100*acc} %')"
      ]
    }
  ],
  "metadata": {
    "colab": {
      "provenance": [],
      "gpuType": "T4",
      "include_colab_link": true
    },
    "kernelspec": {
      "display_name": "Python 3",
      "name": "python3"
    },
    "language_info": {
      "name": "python"
    },
    "accelerator": "GPU"
  },
  "nbformat": 4,
  "nbformat_minor": 0
}